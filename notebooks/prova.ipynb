{
 "cells": [
  {
   "cell_type": "code",
   "execution_count": 1,
   "metadata": {},
   "outputs": [
    {
     "name": "stdout",
     "output_type": "stream",
     "text": [
      "Superficie  total: 4972 km2\n"
     ]
    }
   ],
   "source": [
    "import  pandas  as  pd  \n",
    "datos  =  { 'isla':  ['Mallorca',  'Menorca',  'Ibiza',  'Formentera'],  'superficie':  [3620,  692,  \n",
    "577,  83],  'poblacio':  [ 923608,  94885,  147914,  \n",
    "11708]\n",
    " }  \n",
    "df  =  pd.DataFrame(datos)  \n",
    "print(\"Superficie  total:\",  df['superficie'].sum(),  \"km2\")"
   ]
  }
 ],
 "metadata": {
  "kernelspec": {
   "display_name": "tasca-eThOBYbo-py3.13",
   "language": "python",
   "name": "python3"
  },
  "language_info": {
   "codemirror_mode": {
    "name": "ipython",
    "version": 3
   },
   "file_extension": ".py",
   "mimetype": "text/x-python",
   "name": "python",
   "nbconvert_exporter": "python",
   "pygments_lexer": "ipython3",
   "version": "3.13.0"
  }
 },
 "nbformat": 4,
 "nbformat_minor": 2
}
